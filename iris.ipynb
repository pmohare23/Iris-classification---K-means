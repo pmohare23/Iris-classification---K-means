{
 "cells": [
  {
   "cell_type": "code",
   "execution_count": 1,
   "metadata": {},
   "outputs": [],
   "source": [
    "import numpy as np\n",
    "import pandas as pd\n",
    "iris=pd.read_csv('C://Users//Pratik//Desktop//iris.txt',sep=' ',header=None)\n",
    "k=3"
   ]
  },
  {
   "cell_type": "code",
   "execution_count": 2,
   "metadata": {},
   "outputs": [
    {
     "data": {
      "text/html": [
       "<div>\n",
       "<style scoped>\n",
       "    .dataframe tbody tr th:only-of-type {\n",
       "        vertical-align: middle;\n",
       "    }\n",
       "\n",
       "    .dataframe tbody tr th {\n",
       "        vertical-align: top;\n",
       "    }\n",
       "\n",
       "    .dataframe thead th {\n",
       "        text-align: right;\n",
       "    }\n",
       "</style>\n",
       "<table border=\"1\" class=\"dataframe\">\n",
       "  <thead>\n",
       "    <tr style=\"text-align: right;\">\n",
       "      <th></th>\n",
       "      <th>0</th>\n",
       "      <th>1</th>\n",
       "      <th>2</th>\n",
       "      <th>3</th>\n",
       "    </tr>\n",
       "  </thead>\n",
       "  <tbody>\n",
       "    <tr>\n",
       "      <th>count</th>\n",
       "      <td>150.000000</td>\n",
       "      <td>150.000000</td>\n",
       "      <td>150.000000</td>\n",
       "      <td>150.000000</td>\n",
       "    </tr>\n",
       "    <tr>\n",
       "      <th>mean</th>\n",
       "      <td>5.843333</td>\n",
       "      <td>3.054000</td>\n",
       "      <td>3.758667</td>\n",
       "      <td>1.198667</td>\n",
       "    </tr>\n",
       "    <tr>\n",
       "      <th>std</th>\n",
       "      <td>0.828066</td>\n",
       "      <td>0.433594</td>\n",
       "      <td>1.764420</td>\n",
       "      <td>0.763161</td>\n",
       "    </tr>\n",
       "    <tr>\n",
       "      <th>min</th>\n",
       "      <td>4.300000</td>\n",
       "      <td>2.000000</td>\n",
       "      <td>1.000000</td>\n",
       "      <td>0.100000</td>\n",
       "    </tr>\n",
       "    <tr>\n",
       "      <th>25%</th>\n",
       "      <td>5.100000</td>\n",
       "      <td>2.800000</td>\n",
       "      <td>1.600000</td>\n",
       "      <td>0.300000</td>\n",
       "    </tr>\n",
       "    <tr>\n",
       "      <th>50%</th>\n",
       "      <td>5.800000</td>\n",
       "      <td>3.000000</td>\n",
       "      <td>4.350000</td>\n",
       "      <td>1.300000</td>\n",
       "    </tr>\n",
       "    <tr>\n",
       "      <th>75%</th>\n",
       "      <td>6.400000</td>\n",
       "      <td>3.300000</td>\n",
       "      <td>5.100000</td>\n",
       "      <td>1.800000</td>\n",
       "    </tr>\n",
       "    <tr>\n",
       "      <th>max</th>\n",
       "      <td>7.900000</td>\n",
       "      <td>4.400000</td>\n",
       "      <td>6.900000</td>\n",
       "      <td>2.500000</td>\n",
       "    </tr>\n",
       "  </tbody>\n",
       "</table>\n",
       "</div>"
      ],
      "text/plain": [
       "                0           1           2           3\n",
       "count  150.000000  150.000000  150.000000  150.000000\n",
       "mean     5.843333    3.054000    3.758667    1.198667\n",
       "std      0.828066    0.433594    1.764420    0.763161\n",
       "min      4.300000    2.000000    1.000000    0.100000\n",
       "25%      5.100000    2.800000    1.600000    0.300000\n",
       "50%      5.800000    3.000000    4.350000    1.300000\n",
       "75%      6.400000    3.300000    5.100000    1.800000\n",
       "max      7.900000    4.400000    6.900000    2.500000"
      ]
     },
     "execution_count": 2,
     "metadata": {},
     "output_type": "execute_result"
    }
   ],
   "source": [
    "iris.describe()"
   ]
  },
  {
   "cell_type": "code",
   "execution_count": 3,
   "metadata": {},
   "outputs": [
    {
     "data": {
      "image/png": "[encoded data removed]",
      "text/plain": [
       "<Figure size 432x288 with 1 Axes>"
      ]
     },
     "metadata": {
      "needs_background": "light"
     },
     "output_type": "display_data"
    },
    {
     "data": {
      "image/png": "[encoded data removed]",
      "text/plain": [
       "<Figure size 432x288 with 1 Axes>"
      ]
     },
     "metadata": {
      "needs_background": "light"
     },
     "output_type": "display_data"
    }
   ],
   "source": [
    "import seaborn as sns\n",
    "import matplotlib.pyplot as plt\n",
    "fig1=iris.plot(kind='scatter', x=0, y=1)\n",
    "fig2=iris.plot(kind='scatter', x=2, y=3)"
   ]
  },
  {
   "cell_type": "code",
   "execution_count": 4,
   "metadata": {},
   "outputs": [
    {
     "data": {
      "text/plain": [
       "<AxesSubplot:>"
      ]
     },
     "execution_count": 4,
     "metadata": {},
     "output_type": "execute_result"
    },
    {
     "data": {
      "image/png": "[encoded data removed]",
      "text/plain": [
       "<Figure size 432x288 with 2 Axes>"
      ]
     },
     "metadata": {
      "needs_background": "light"
     },
     "output_type": "display_data"
    }
   ],
   "source": [
    "sns.heatmap(iris.corr(), annot=True)"
   ]
  },
  {
   "cell_type": "code",
   "execution_count": 5,
   "metadata": {},
   "outputs": [],
   "source": [
    "#iris=iris.drop(columns=[0,1])"
   ]
  },
  {
   "cell_type": "code",
   "execution_count": null,
   "metadata": {},
   "outputs": [],
   "source": [
    "#random centroid Initialization\n",
    "'''from random import randint\n",
    "cen=[iris.iloc[randint(0,len(iris))] for i in range(k)]'''"
   ]
  },
  {
   "cell_type": "code",
   "execution_count": 6,
   "metadata": {},
   "outputs": [],
   "source": [
    "#Centroid Initialization based on distance\n",
    "'''from random import randint\n",
    "cen=pd.DataFrame([iris.iloc[randint(0,len(iris)-1)]])\n",
    "max_dist=max([((iris-i)**2).sum(axis=1).max() for i in iris.values])\n",
    "partition=max_dist/(k**2)\n",
    "while len(cen)<k:\n",
    "    pnt=iris.iloc[randint(0,len(iris)-1)]\n",
    "    if (((cen-pnt)**2).sum(axis=1)>partition).all():\n",
    "         cen=cen.append(pnt)'''"
   ]
  },
  {
   "cell_type": "code",
   "execution_count": 8,
   "metadata": {},
   "outputs": [
    {
     "name": "stdout",
     "output_type": "stream",
     "text": [
      "2054.6599999999994\n"
     ]
    }
   ],
   "source": [
    "#calculate random SSE\n",
    "'''random_sse=0\n",
    "for i in range(len(iris)):\n",
    "    random_sse+=((iris.iloc[i]-cen.iloc[randint(0,k-1)])**2).sum()\n",
    "print(random_sse)'''"
   ]
  },
  {
   "cell_type": "code",
   "execution_count": 7,
   "metadata": {},
   "outputs": [
    {
     "name": "stdout",
     "output_type": "stream",
     "text": [
      "55.388565479609625\n"
     ]
    }
   ],
   "source": [
    "#Euclidean distance\n",
    "'''oasgn=None\n",
    "asgn=np.zeros(len(iris))\n",
    "while not((asgn==oasgn).all()):\n",
    "    oasgn=asgn\n",
    "    fin=pd.DataFrame([(((iris-cen.iloc[i])**2).sum(axis=1)**0.5) for i in range(k)])\n",
    "    sse=fin.min().sum()\n",
    "    asgn=fin.idxmin()+1\n",
    "    cen=pd.DataFrame([iris.iloc[asgn.index[asgn==x].tolist()].mean() for x in range(1,k+1)])\n",
    "print(sse)'''"
   ]
  },
  {
   "cell_type": "code",
   "execution_count": 8,
   "metadata": {},
   "outputs": [
    {
     "data": {
      "text/plain": [
       "<AxesSubplot:xlabel='2', ylabel='3'>"
      ]
     },
     "execution_count": 8,
     "metadata": {},
     "output_type": "execute_result"
    },
    {
     "data": {
      "image/png": "[encoded data removed]",
      "text/plain": [
       "<Figure size 432x288 with 1 Axes>"
      ]
     },
     "metadata": {
      "needs_background": "light"
     },
     "output_type": "display_data"
    }
   ],
   "source": [
    "#plotting based on Euclidean distance (only column 2 & 3)\n",
    "fig=iris[asgn==1].plot(kind='scatter',x=2,y=3,color='r')\n",
    "iris[asgn==2].plot(kind='scatter',x=2,y=3,color='g',ax=fig)\n",
    "iris[asgn==3].plot(kind='scatter',x=2,y=3,color='b',ax=fig)"
   ]
  },
  {
   "cell_type": "code",
   "execution_count": 5,
   "metadata": {},
   "outputs": [],
   "source": [
    "from sklearn import preprocessing\n",
    "iris = pd.DataFrame(preprocessing.Normalizer().fit_transform(iris))"
   ]
  },
  {
   "cell_type": "code",
   "execution_count": 6,
   "metadata": {},
   "outputs": [],
   "source": [
    "from random import randint\n",
    "cen=pd.DataFrame([iris.iloc[randint(0,len(iris)-1)]]) #random 1st centroid\n",
    "max_dist=max([((iris-i)**2).sum(axis=1).max() for i in iris.values]) #max distance from 1st centroid\n",
    "partition=max_dist/(k*20)\n",
    "while len(cen)<k: #k-1 other centroids on basis of distance\n",
    "    pnt=iris.iloc[randint(0,len(iris)-1)]\n",
    "    if (((cen-pnt)**2).sum(axis=1)>partition).all():\n",
    "         cen=cen.append(pnt)"
   ]
  },
  {
   "cell_type": "code",
   "execution_count": 7,
   "metadata": {},
   "outputs": [],
   "source": [
    "'''Cosine Similarity'''\n",
    "oasgn=None\n",
    "asgn=pd.DataFrame(np.zeros(len(iris)))\n",
    "while not((asgn==oasgn).all().all()):\n",
    "    oasgn=asgn\n",
    "    asgn=pd.DataFrame([iris.dot(x.T) for x in cen.values]).T.idxmax(axis=1)+1\n",
    "    cen=pd.DataFrame([iris.iloc[asgn.index[asgn==x].tolist()].mean() for x in range(1,k+1)]) #recalculate centroid"
   ]
  },
  {
   "cell_type": "code",
   "execution_count": 8,
   "metadata": {},
   "outputs": [
    {
     "data": {
      "text/plain": [
       "<AxesSubplot:xlabel='2', ylabel='3'>"
      ]
     },
     "execution_count": 8,
     "metadata": {},
     "output_type": "execute_result"
    },
    {
     "data": {
      "image/png": "[encoded data removed]",
      "text/plain": [
       "<Figure size 432x288 with 1 Axes>"
      ]
     },
     "metadata": {
      "needs_background": "light"
     },
     "output_type": "display_data"
    }
   ],
   "source": [
    "#plotting based on Cosine Similarity (normalized data)\n",
    "fig=iris[asgn==1].plot(kind='scatter',x=2,y=3,color='r')\n",
    "iris[asgn==2].plot(kind='scatter',x=2,y=3,color='g',ax=fig)\n",
    "iris[asgn==3].plot(kind='scatter',x=2,y=3,color='b',ax=fig)"
   ]
  },
  {
   "cell_type": "code",
   "execution_count": null,
   "metadata": {},
   "outputs": [],
   "source": [
    "pd.DataFrame(asgn).to_csv(path_or_buf='C:\\\\\\\\Users\\\\\\\\Pratik\\\\\\\\Desktop\\\\\\\\submission.txt',header=False,index=False,index_label=None,mode='w')"
   ]
  },
  {
   "cell_type": "code",
   "execution_count": 74,
   "metadata": {},
   "outputs": [
    {
     "data": {
      "text/plain": [
       "Text(0.5, 1.0, 'SSE vs no. of Clusters')"
      ]
     },
     "execution_count": 74,
     "metadata": {},
     "output_type": "execute_result"
    },
    {
     "data": {
      "image/png": "[encoded data removed]",
      "text/plain": [
       "<Figure size 288x288 with 1 Axes>"
      ]
     },
     "metadata": {
      "needs_background": "light"
     },
     "output_type": "display_data"
    }
   ],
   "source": [
    "from sklearn.metrics.pairwise import euclidean_distances\n",
    "sselist=[]\n",
    "for k in range(2,21,2): #for k : 2 to 20\n",
    "    cen=pd.DataFrame([iris.iloc[randint(0,len(iris)-1)]])\n",
    "    while len(cen)<k:\n",
    "        flag=True\n",
    "        for i in iris.values:\n",
    "            if ((euclidean_distances(pd.DataFrame(i).T,cen))[0]>partition/(k/100)).all():\n",
    "                cen=cen.append(pd.DataFrame(i).T)\n",
    "                flag=False\n",
    "                break\n",
    "        if flag:\n",
    "            cen=pd.DataFrame([iris.iloc[randint(0,len(iris)-1)]])\n",
    "    oasgn=None\n",
    "    asgn=np.zeros(len(iris))\n",
    "    while not((asgn==oasgn).all()):\n",
    "        oasgn=asgn\n",
    "        fin=pd.DataFrame(euclidean_distances(iris,cen))\n",
    "        asgn=fin.idxmin(axis=1)\n",
    "        cen=pd.DataFrame([iris.iloc[asgn.index[asgn==x].tolist()].mean() for x in range(k)])\n",
    "    sselist.append(fin.min(axis=1).sum())\n",
    "fig= plt.subplots(figsize=(4,4))\n",
    "plt.plot(range(2,21,2),sselist,color='b')\n",
    "plt.xlabel('Clusters', fontsize=15)\n",
    "plt.ylabel('SSE', fontsize=15)\n",
    "plt.title('SSE vs no. of Clusters', fontsize=10)"
   ]
  }
 ],
 "metadata": {
  "kernelspec": {
   "display_name": "Python 3",
   "language": "python",
   "name": "python3"
  },
  "language_info": {
   "codemirror_mode": {
    "name": "ipython",
    "version": 3
   },
   "file_extension": ".py",
   "mimetype": "text/x-python",
   "name": "python",
   "nbconvert_exporter": "python",
   "pygments_lexer": "ipython3",
   "version": "3.8.5"
  }
 },
 "nbformat": 4,
 "nbformat_minor": 4
}
